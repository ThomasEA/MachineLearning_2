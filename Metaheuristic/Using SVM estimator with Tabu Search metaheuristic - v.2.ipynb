{
 "cells": [
  {
   "cell_type": "code",
   "execution_count": 3,
   "metadata": {},
   "outputs": [],
   "source": [
    "import pandas as pd\n",
    "import numpy as np\n",
    "import random\n",
    "import copy\n",
    "\n",
    "from sklearn.model_selection import train_test_split, StratifiedKFold\n",
    "from sklearn.metrics import accuracy_score\n",
    "from sklearn.svm import SVC"
   ]
  },
  {
   "cell_type": "code",
   "execution_count": 4,
   "metadata": {},
   "outputs": [],
   "source": [
    "def cross_validate(model, X, y, n_folds):\n",
    "    score = {'fit_score': [], 'test_score': []}\n",
    "    \n",
    "    kf = StratifiedKFold(n_splits=n_folds, shuffle=True, random_state=10)\n",
    "    \n",
    "    for train, test in kf.split(X, y):\n",
    "        X_train, y_train = X[train, :], y[train]\n",
    "        X_test, y_test = X[test, :], y[test]\n",
    "        \n",
    "        model.fit(X_train, y_train)\n",
    "        \n",
    "        pred_train_y = model.predict(X_train)\n",
    "        \n",
    "        pred_test_y = model.predict(X_test)\n",
    "        \n",
    "        score['fit_score'].append(accuracy_score(y_train, pred_train_y))\n",
    "        score['test_score'].append(accuracy_score(y_test, pred_test_y))\n",
    "    return score"
   ]
  },
  {
   "cell_type": "code",
   "execution_count": 5,
   "metadata": {},
   "outputs": [],
   "source": [
    "data = pd.read_csv('sonar.all-data.csv', delimiter=',', header=None)\n",
    "\n",
    "train, test = train_test_split(data.get_values(), test_size=0.2)\n",
    "\n",
    "model = SVC(C=10.0, gamma=0.01)\n",
    "\n",
    "score = cross_validate(model, train[:,:-1], train[:,-1], n_folds=10)"
   ]
  },
  {
   "cell_type": "code",
   "execution_count": 6,
   "metadata": {},
   "outputs": [
    {
     "data": {
      "text/plain": [
       "'Mean accuracy on fit: 0.8118637765282062 / Mean accuracy on test 0.741421568627451'"
      ]
     },
     "execution_count": 6,
     "metadata": {},
     "output_type": "execute_result"
    }
   ],
   "source": [
    "\"Mean accuracy on fit: {} / Mean accuracy on test {}\".format(np.mean(score['fit_score']), np.mean(score['test_score']))"
   ]
  },
  {
   "cell_type": "code",
   "execution_count": 7,
   "metadata": {},
   "outputs": [
    {
     "name": "stdout",
     "output_type": "stream",
     "text": [
      "C 0.23132638631223434 -1\n"
     ]
    },
    {
     "data": {
      "text/plain": [
       "{'C': 9.806185783618936, 'gamma': 0.01}"
      ]
     },
     "execution_count": 7,
     "metadata": {},
     "output_type": "execute_result"
    }
   ],
   "source": [
    "svm_params = {'C': 10.0, 'gamma': 0.01}\n",
    "\n",
    "def perturbacao(current):\n",
    "    new_value = current.copy()\n",
    "    \n",
    "    while True:\n",
    "        param_to_change = random.choice(['C', 'gamma'])\n",
    "\n",
    "        p = np.random.random()\n",
    "\n",
    "        direction = random.choice([-1, 1])\n",
    "    \n",
    "        print(param_to_change, p, direction)\n",
    "    \n",
    "        if (p < 0.8):\n",
    "            new_value[param_to_change] = current[param_to_change] + ((np.random.uniform(0, current[param_to_change] * 0.3)) * direction)\n",
    "        else:\n",
    "            new_value[param_to_change] = current[param_to_change] + (np.random.uniform(0, current[param_to_change] * 5.0))\n",
    "            \n",
    "        if (new_value['C'] >= 1 and new_value['gamma'] > 0):\n",
    "            break\n",
    "    \n",
    "    return new_value\n",
    "    \n",
    "perturbacao(svm_params)"
   ]
  },
  {
   "cell_type": "code",
   "execution_count": 22,
   "metadata": {},
   "outputs": [],
   "source": [
    "params_range = {'C':[1.,1000.], 'gamma':[0.01,0.1]}\n",
    "params_var   = {'C':[1.,1000.], 'gamma':[0.01,1.1]}\n",
    "\n",
    "def generate_neighbours(current, n):\n",
    "    \"\"\"\n",
    "    Geração da vizinhança para uma solução.\n",
    "    \n",
    "    Parâmetros\n",
    "        current: solução atual\n",
    "        n......: número de vizinhos que serão gerados\n",
    "    \"\"\"\n",
    "    neighbourhood = []\n",
    "    params = ['C','gamma']\n",
    "    operations = ['+','-']\n",
    "    \n",
    "    for i in range(n):\n",
    "        \n",
    "        new_par = current.copy()\n",
    "        \n",
    "        while True:\n",
    "        \n",
    "            for p in params:\n",
    "\n",
    "                if np.random.randint(0,2) == 1:\n",
    "\n",
    "                    while True:\n",
    "                        op = random.choice(operations)\n",
    "                        factor = np.random.uniform(low=params_var[p][0], high=params_var[p][1])\n",
    "                        #factor = round(np.random.uniform(low=1., high=10.), 1)\n",
    "\n",
    "                        if op == '-':\n",
    "                            factor = new_par[p] + (factor * -1)#(np.log2(factor) * -1)\n",
    "\n",
    "                        new_value = new_par[p] + factor\n",
    "\n",
    "                        if new_value >= params_range[p][0] and new_value <= params_range[p][1]:\n",
    "                            new_par[p] = np.round(new_value, 2)\n",
    "                            break\n",
    "\n",
    "            if new_par not in neighbourhood:\n",
    "                neighbourhood.append(new_par)\n",
    "                break\n",
    "        \n",
    "    return neighbourhood"
   ]
  },
  {
   "cell_type": "code",
   "execution_count": 9,
   "metadata": {},
   "outputs": [],
   "source": [
    "def find_neighbour(X, y, neighborhood):\n",
    "    \"\"\"\n",
    "    Encontra o melhor entre a vizinhança, baseado na acurácia\n",
    "    \n",
    "    Parâmetros\n",
    "        X...........: Valores do dataset\n",
    "        y...........: Labels do dataset\n",
    "        neighborhood: vizinhança que será avaliada\n",
    "    \"\"\"\n",
    "    folds = 10\n",
    "    \n",
    "    best_neighbour = None\n",
    "    \n",
    "    for neighbor in neighborhood:\n",
    "        model = SVC(C = neighbor['C'], gamma=neighbor['gamma'])\n",
    "        neighbor_score = cross_validate(model, X, y, n_folds=folds)\n",
    "        \n",
    "        if best_neighbour == None or best_neighbour_score < np.mean(neighbor_score['test_score']):\n",
    "            best_neighbour = neighbor\n",
    "            best_neighbour_score = np.mean(neighbor_score['test_score'])\n",
    "\n",
    "    return best_neighbour, best_neighbour_score"
   ]
  },
  {
   "cell_type": "code",
   "execution_count": 10,
   "metadata": {},
   "outputs": [],
   "source": [
    "def update_tabu_list(tabu_list, size):\n",
    "    if len(tabu_list) > size:\n",
    "        tabu_list.pop(0)\n",
    "\n",
    "def check_tabu_list(solution, tabu_list):\n",
    "    if solution not in tabu_list:\n",
    "        tabu_list.append(solution)\n",
    "        update_tabu_list(tabu_list, tabu_list_size)\n",
    "        print('Atualizou Tabu List')\n",
    "        return True\n",
    "    \n",
    "    return False"
   ]
  },
  {
   "cell_type": "code",
   "execution_count": 11,
   "metadata": {},
   "outputs": [],
   "source": [
    "from tqdm import tqdm_notebook as tqdm"
   ]
  },
  {
   "cell_type": "code",
   "execution_count": 26,
   "metadata": {},
   "outputs": [
    {
     "name": "stdout",
     "output_type": "stream",
     "text": [
      "Current params {'C': 1.0, 'gamma': 0.01}\n",
      "FIT >> Mean accuracy train set 0.5615887901324144 / Mean accuracy test set 0.5599264705882353\n",
      "TEST >> Accuracy test set 0.6666666666666666\n"
     ]
    },
    {
     "data": {
      "application/vnd.jupyter.widget-view+json": {
       "model_id": "2e525d46a00b4c3fb97b8ddbc2711f37",
       "version_major": 2,
       "version_minor": 0
      },
      "text/html": [
       "<p>Failed to display Jupyter Widget of type <code>HBox</code>.</p>\n",
       "<p>\n",
       "  If you're reading this message in the Jupyter Notebook or JupyterLab Notebook, it may mean\n",
       "  that the widgets JavaScript is still loading. If this message persists, it\n",
       "  likely means that the widgets JavaScript library is either not installed or\n",
       "  not enabled. See the <a href=\"https://ipywidgets.readthedocs.io/en/stable/user_install.html\">Jupyter\n",
       "  Widgets Documentation</a> for setup instructions.\n",
       "</p>\n",
       "<p>\n",
       "  If you're reading this message in another frontend (for example, a static\n",
       "  rendering on GitHub or <a href=\"https://nbviewer.jupyter.org/\">NBViewer</a>),\n",
       "  it may mean that your frontend doesn't currently support widgets.\n",
       "</p>\n"
      ],
      "text/plain": [
       "HBox(children=(IntProgress(value=0, max=30), HTML(value='')))"
      ]
     },
     "metadata": {},
     "output_type": "display_data"
    },
    {
     "name": "stdout",
     "output_type": "stream",
     "text": [
      "Atualizou Tabu List\n",
      "[{'C': 158.45, 'gamma': 0.05}]\n",
      "[{'C': 158.45, 'gamma': 0.05}]\n",
      "[{'C': 158.45, 'gamma': 0.05}]\n",
      "[{'C': 158.45, 'gamma': 0.05}]\n",
      "[{'C': 158.45, 'gamma': 0.05}]\n",
      "[{'C': 158.45, 'gamma': 0.05}]\n",
      "[{'C': 158.45, 'gamma': 0.05}]\n",
      "[{'C': 158.45, 'gamma': 0.05}]\n",
      "[{'C': 158.45, 'gamma': 0.05}]\n",
      "Atualizou Tabu List\n",
      "[{'C': 158.45, 'gamma': 0.05}, {'C': 108.03, 'gamma': 0.05}]\n",
      "[{'C': 158.45, 'gamma': 0.05}, {'C': 108.03, 'gamma': 0.05}]\n",
      "[{'C': 158.45, 'gamma': 0.05}, {'C': 108.03, 'gamma': 0.05}]\n",
      "[{'C': 158.45, 'gamma': 0.05}, {'C': 108.03, 'gamma': 0.05}]\n",
      "[{'C': 158.45, 'gamma': 0.05}, {'C': 108.03, 'gamma': 0.05}]\n",
      "[{'C': 158.45, 'gamma': 0.05}, {'C': 108.03, 'gamma': 0.05}]\n",
      "[{'C': 158.45, 'gamma': 0.05}, {'C': 108.03, 'gamma': 0.05}]\n",
      "[{'C': 158.45, 'gamma': 0.05}, {'C': 108.03, 'gamma': 0.05}]\n",
      "[{'C': 158.45, 'gamma': 0.05}, {'C': 108.03, 'gamma': 0.05}]\n",
      "[{'C': 158.45, 'gamma': 0.05}, {'C': 108.03, 'gamma': 0.05}]\n",
      "[{'C': 158.45, 'gamma': 0.05}, {'C': 108.03, 'gamma': 0.05}]\n",
      "[{'C': 158.45, 'gamma': 0.05}, {'C': 108.03, 'gamma': 0.05}]\n",
      "[{'C': 158.45, 'gamma': 0.05}, {'C': 108.03, 'gamma': 0.05}]\n",
      "[{'C': 158.45, 'gamma': 0.05}, {'C': 108.03, 'gamma': 0.05}]\n",
      "[{'C': 158.45, 'gamma': 0.05}, {'C': 108.03, 'gamma': 0.05}]\n",
      "[{'C': 158.45, 'gamma': 0.05}, {'C': 108.03, 'gamma': 0.05}]\n",
      "[{'C': 158.45, 'gamma': 0.05}, {'C': 108.03, 'gamma': 0.05}]\n",
      "[{'C': 158.45, 'gamma': 0.05}, {'C': 108.03, 'gamma': 0.05}]\n",
      "[{'C': 158.45, 'gamma': 0.05}, {'C': 108.03, 'gamma': 0.05}]\n",
      "[{'C': 158.45, 'gamma': 0.05}, {'C': 108.03, 'gamma': 0.05}]\n",
      "[{'C': 158.45, 'gamma': 0.05}, {'C': 108.03, 'gamma': 0.05}]\n",
      "\n",
      "Current params {'C': 108.03, 'gamma': 0.05}\n",
      "FIT >> Mean accuracy train set 0.9785814740915411 / Mean accuracy test set 0.8734477124183005\n",
      "TEST >> Accuracy test set 0.8571428571428571\n"
     ]
    }
   ],
   "source": [
    "current = {'C': 1.0, 'gamma': 0.01}\n",
    "\n",
    "model = SVC(C = current['C'], gamma=current['gamma'])\n",
    "\n",
    "current_score = cross_validate(model, train[:,:-1], train[:,-1], n_folds=10)\n",
    "\n",
    "print(\"Current params {}\".format(current))\n",
    "\n",
    "print(\"FIT >> Mean accuracy train set {} / Mean accuracy test set {}\".format(np.mean(current_score['fit_score']), np.mean(current_score['test_score'])))\n",
    "\n",
    "predicted = model.predict(test[:,:-1])\n",
    "\n",
    "accuracy = accuracy_score(test[:,-1], predicted)\n",
    "\n",
    "print(\"TEST >> Accuracy test set {}\".format(accuracy))\n",
    "\n",
    "\n",
    "best_solution = current\n",
    "best_score = np.mean(current_score['test_score'])\n",
    "\n",
    "iterator = 30\n",
    "tabu_list_size = 3\n",
    "tabu_list = list()\n",
    "\n",
    "with tqdm(total=iterator) as pbar:\n",
    "    \n",
    "    for i in range(0,iterator):\n",
    "        neighbourhood = generate_neighbours(current,25)\n",
    "        \n",
    "        best_neighbour, best_neighbour_score = find_neighbour(train[:,:-1], train[:,-1], neighbourhood)\n",
    "\n",
    "        if best_neighbour_score > best_score and check_tabu_list(best_neighbour, tabu_list):\n",
    "            current = best_neighbour\n",
    "            best_solution = best_neighbour\n",
    "            best_score = best_neighbour_score\n",
    "        \n",
    "        current = best_neighbour\n",
    "        \n",
    "        print(tabu_list)\n",
    "\n",
    "        pbar.update(1)\n",
    "\n",
    "model = SVC(C = best_solution['C'], gamma=best_solution['gamma'])\n",
    "\n",
    "current_score = cross_validate(model, train[:,:-1], train[:,-1], n_folds=10)\n",
    "\n",
    "print(\"Current params {}\".format(current))\n",
    "\n",
    "print(\"FIT >> Mean accuracy train set {} / Mean accuracy test set {}\".format(np.mean(current_score['fit_score']), np.mean(current_score['test_score'])))\n",
    "\n",
    "predicted = model.predict(test[:,:-1])\n",
    "\n",
    "accuracy = accuracy_score(test[:,-1], predicted)\n",
    "\n",
    "print(\"TEST >> Accuracy test set {}\".format(accuracy))"
   ]
  },
  {
   "cell_type": "code",
   "execution_count": 300,
   "metadata": {},
   "outputs": [],
   "source": [
    "import matplotlib.pyplot as plt"
   ]
  },
  {
   "cell_type": "code",
   "execution_count": 488,
   "metadata": {},
   "outputs": [],
   "source": [
    "x = np.log2(np.arange(1.,10., 0.1))"
   ]
  },
  {
   "cell_type": "code",
   "execution_count": 489,
   "metadata": {},
   "outputs": [
    {
     "data": {
      "text/plain": [
       "[<matplotlib.lines.Line2D at 0x23e130510b8>]"
      ]
     },
     "execution_count": 489,
     "metadata": {},
     "output_type": "execute_result"
    },
    {
     "data": {
      "image/png": "[encoded data removed]",
      "text/plain": [
       "<matplotlib.figure.Figure at 0x23e12f3b828>"
      ]
     },
     "metadata": {
      "needs_background": "light"
     },
     "output_type": "display_data"
    }
   ],
   "source": [
    "plt.plot(x)"
   ]
  },
  {
   "cell_type": "code",
   "execution_count": 490,
   "metadata": {},
   "outputs": [
    {
     "data": {
      "text/plain": [
       "[<matplotlib.lines.Line2D at 0x23e1309f9b0>]"
      ]
     },
     "execution_count": 490,
     "metadata": {},
     "output_type": "execute_result"
    },
    {
     "data": {
      "image/png": "[encoded data removed]",
      "text/plain": [
       "<matplotlib.figure.Figure at 0x23e12f1bf60>"
      ]
     },
     "metadata": {
      "needs_background": "light"
     },
     "output_type": "display_data"
    }
   ],
   "source": [
    "x = np.log2(np.arange(0.01,1., 0.01))\n",
    "plt.plot(x)"
   ]
  },
  {
   "cell_type": "code",
   "execution_count": 431,
   "metadata": {},
   "outputs": [],
   "source": [
    "#Teste com GridSearch\n",
    "from sklearn.model_selection import GridSearchCV\n",
    "\n",
    "def svc_param_selection(X, y, nfolds):\n",
    "    Cs = [0.001, 0.01, 0.1, 1, 10]\n",
    "    gammas = [0.001, 0.01, 0.1, 1]\n",
    "    param_grid = {'C': Cs, 'gamma' : gammas}\n",
    "    grid_search = GridSearchCV(SVC(kernel='rbf'), param_grid, cv=nfolds)\n",
    "    grid_search.fit(X, y)\n",
    "    grid_search.best_params_\n",
    "    return grid_search.best_params_"
   ]
  },
  {
   "cell_type": "code",
   "execution_count": 434,
   "metadata": {},
   "outputs": [
    {
     "data": {
      "text/plain": [
       "{'C': 10, 'gamma': 1}"
      ]
     },
     "execution_count": 434,
     "metadata": {},
     "output_type": "execute_result"
    }
   ],
   "source": [
    "param_sel = svc_param_selection(train[:,:-1], train[:,-1], 10)\n",
    "\n",
    "param_sel"
   ]
  },
  {
   "cell_type": "code",
   "execution_count": 495,
   "metadata": {},
   "outputs": [
    {
     "name": "stdout",
     "output_type": "stream",
     "text": [
      "Current params {'C': 10, 'gamma': 1}\n",
      "FIT >> Mean accuracy train set 0.997324384787472 / Mean accuracy test set 0.8316176470588236\n",
      "TEST >> Accuracy test set 0.8571428571428571\n"
     ]
    }
   ],
   "source": [
    "#model = SVC(C = param_sel['C'], gamma=param_sel['gamma'])\n",
    "model = SVC(C = 157.74, gamma=0.08)\n",
    "\n",
    "current_score = cross_validate(model, train[:,:-1], train[:,-1], n_folds=10)\n",
    "\n",
    "print(\"Current params {}\".format(param_sel))\n",
    "\n",
    "print(\"FIT >> Mean accuracy train set {} / Mean accuracy test set {}\".format(np.mean(current_score['fit_score']), np.mean(current_score['test_score'])))\n",
    "\n",
    "predicted = model.predict(test[:,:-1])\n",
    "\n",
    "accuracy = accuracy_score(test[:,-1], predicted)\n",
    "\n",
    "print(\"TEST >> Accuracy test set {}\".format(accuracy))"
   ]
  },
  {
   "cell_type": "code",
   "execution_count": null,
   "metadata": {},
   "outputs": [],
   "source": []
  },
  {
   "cell_type": "code",
   "execution_count": null,
   "metadata": {},
   "outputs": [],
   "source": []
  }
 ],
 "metadata": {
  "kernelspec": {
   "display_name": "Python 3",
   "language": "python",
   "name": "python3"
  },
  "language_info": {
   "codemirror_mode": {
    "name": "ipython",
    "version": 3
   },
   "file_extension": ".py",
   "mimetype": "text/x-python",
   "name": "python",
   "nbconvert_exporter": "python",
   "pygments_lexer": "ipython3",
   "version": "3.6.4"
  }
 },
 "nbformat": 4,
 "nbformat_minor": 2
}
