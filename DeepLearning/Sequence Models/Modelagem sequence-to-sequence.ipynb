{
 "cells": [
  {
   "cell_type": "markdown",
   "metadata": {},
   "source": [
    "<h2>Modelagem sequence-to-sequence (seq2seq)</h2>\n",
    "\n",
    "Para esse tipo de modelagem, geralmente se usa <i>encoder</i> e <i>decoder</i>.\n",
    "O <i>encoder</i> gera uma representação (hidden state), que será utilizada para alimentar o <i>decoder</i>.\n",
    "Mas não como uma entrada. Essa representação irá alimentar somente o estado inicial do <i>decoder</i>."
   ]
  },
  {
   "cell_type": "code",
   "execution_count": null,
   "metadata": {},
   "outputs": [],
   "source": [
    "import pandas as pd\n",
    "import numpy as np\n",
    "\n"
   ]
  }
 ],
 "metadata": {
  "kernelspec": {
   "display_name": "Python 2",
   "language": "python",
   "name": "python2"
  },
  "language_info": {
   "codemirror_mode": {
    "name": "ipython",
    "version": 2
   },
   "file_extension": ".py",
   "mimetype": "text/x-python",
   "name": "python",
   "nbconvert_exporter": "python",
   "pygments_lexer": "ipython2",
   "version": "2.7.15"
  }
 },
 "nbformat": 4,
 "nbformat_minor": 2
}
